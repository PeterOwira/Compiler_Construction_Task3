{
  "nbformat": 4,
  "nbformat_minor": 0,
  "metadata": {
    "colab": {
      "provenance": []
    },
    "kernelspec": {
      "name": "python3",
      "display_name": "Python 3"
    },
    "language_info": {
      "name": "python"
    }
  },
  "cells": [
    {
      "cell_type": "code",
      "execution_count": 4,
      "metadata": {
        "colab": {
          "base_uri": "https://localhost:8080/"
        },
        "id": "nhfPitWfLGjA",
        "outputId": "d8b833ec-3b5d-425a-e6bd-0970a6ef411c"
      },
      "outputs": [
        {
          "output_type": "stream",
          "name": "stdout",
          "text": [
            "LL(1) Parsing Table:\n",
            "Non-Terminal    Terminal        Production     \n",
            "A               a               a              \n",
            "A                                              \n",
            "A               b                              \n",
            "B               b               b              \n",
            "B                                              \n",
            "B               $                              \n",
            "S               b               b              \n"
          ]
        }
      ],
      "source": [
        "class LL1ParsingTable:\n",
        "    def __init__(self, non_terminals, terminals, start_symbol, productions):\n",
        "        self.non_terminals = non_terminals\n",
        "        self.terminals = terminals\n",
        "        self.start_symbol = start_symbol\n",
        "        self.productions = productions\n",
        "        self.parsing_table = {}\n",
        "\n",
        "    def compute_first(self, symbol):\n",
        "        # Initialize an empty set for the FIRST set of the given symbol.\n",
        "        first_set = set()\n",
        "\n",
        "        # If the symbol is a terminal, its FIRST set is just itself.\n",
        "        if symbol in self.terminals:\n",
        "            first_set.add(symbol)\n",
        "        # If the symbol is ε (empty string), add it to the FIRST set.\n",
        "        elif symbol == \"\":\n",
        "            first_set.add(symbol)\n",
        "        # If the symbol is a non-terminal, compute its FIRST set based on its production rules.\n",
        "        elif symbol in self.non_terminals:\n",
        "            for production in self.productions[symbol]:\n",
        "                # Iterate through the symbols in the production.\n",
        "                for production_symbol in production:\n",
        "                    # Compute the FIRST set of the current production symbol.\n",
        "                    first_of_production_symbol = self.compute_first(production_symbol)\n",
        "\n",
        "                    # Add all symbols from the FIRST set of the current production symbol\n",
        "                    # to the FIRST set of the current non-terminal symbol.\n",
        "                    first_set.update(first_of_production_symbol)\n",
        "\n",
        "                    # If ε is not in the FIRST set of the current production symbol,\n",
        "                    # stop processing further symbols in this production.\n",
        "                    if \"\" not in first_of_production_symbol:\n",
        "                        break\n",
        "\n",
        "        # Return the computed FIRST set for the given symbol.\n",
        "        return first_set\n",
        "\n",
        "    def compute_follow(self, symbol):\n",
        "        # Initialize an empty set for the FOLLOW set of the given symbol.\n",
        "        follow_set = set()\n",
        "\n",
        "        # Add the START symbol's FOLLOW set to the FOLLOW set of the start symbol.\n",
        "        if symbol == self.start_symbol:\n",
        "            follow_set.add(\"$\")\n",
        "\n",
        "        # Iterate through the non-terminals to compute FOLLOW sets.\n",
        "        for non_terminal in self.non_terminals:\n",
        "            for production in self.productions[non_terminal]:\n",
        "                # Find the position of the given symbol in the production.\n",
        "                for i, production_symbol in enumerate(production):\n",
        "                    if production_symbol == symbol:\n",
        "                        # Check if there is a symbol after the given symbol in the production.\n",
        "                        if i + 1 < len(production):\n",
        "                            next_symbol = production[i + 1]\n",
        "                            # Compute the FIRST set of the symbols after the given symbol.\n",
        "                            first_of_next_symbol = self.compute_first(next_symbol)\n",
        "                            # Add non-empty elements from the FIRST set to the FOLLOW set.\n",
        "                            follow_set.update(filter(lambda x: x != \"\", first_of_next_symbol))\n",
        "                        # If the given symbol is at the end of a production or if ε is in\n",
        "                        # the FIRST set of symbols after it, add the FOLLOW set of the\n",
        "                        # non-terminal containing this production to the FOLLOW set.\n",
        "                        if i == len(production) - 1 or \"\" in self.compute_first(production[i + 1]):\n",
        "                            follow_set.update(self.compute_follow(non_terminal))\n",
        "\n",
        "        # Return the computed FOLLOW set for the given symbol.\n",
        "        return follow_set\n",
        "\n",
        "    def construct_parsing_table(self):\n",
        "        for non_terminal in self.non_terminals:\n",
        "            for production in self.productions[non_terminal]:\n",
        "                first_set = self.compute_first(production)\n",
        "                for terminal in first_set:\n",
        "                    self.parsing_table[(non_terminal, terminal)] = production\n",
        "                if \"\" in first_set or production == \"\":\n",
        "                    follow_set = self.compute_follow(non_terminal)\n",
        "                    for terminal in follow_set:\n",
        "                        self.parsing_table[(non_terminal, terminal)] = production\n",
        "\n",
        "    def print_parsing_table(self):\n",
        "        print(\"LL(1) Parsing Table:\")\n",
        "        print(\"{:<15} {:<15} {:<15}\".format(\"Non-Terminal\", \"Terminal\", \"Production\"))\n",
        "        for key, value in self.parsing_table.items():\n",
        "            non_terminal, terminal = key\n",
        "            production = value\n",
        "            print(\"{:<15} {:<15} {:<15}\".format(non_terminal, terminal, production))\n",
        "\n",
        "# Example usage\n",
        "non_terminals = {'S', 'A', 'B'}\n",
        "terminals = {'a', 'b'}\n",
        "start_symbol = 'S'\n",
        "productions = {\n",
        "    'S': ['aAB', 'b'],\n",
        "    'A': ['a', ''],\n",
        "    'B': ['b', '']\n",
        "}\n",
        "\n",
        "ll1_parser = LL1ParsingTable(non_terminals, terminals, start_symbol, productions)\n",
        "ll1_parser.construct_parsing_table()\n",
        "ll1_parser.print_parsing_table()\n"
      ]
    },
    {
      "cell_type": "code",
      "source": [],
      "metadata": {
        "id": "vCPC9Nino_Rb"
      },
      "execution_count": null,
      "outputs": []
    }
  ]
}